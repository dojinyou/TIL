{
 "cells": [
  {
   "cell_type": "code",
   "execution_count": 2,
   "metadata": {
    "ExecuteTime": {
     "end_time": "2021-04-30T02:14:43.898136Z",
     "start_time": "2021-04-30T02:14:43.880104Z"
    }
   },
   "outputs": [],
   "source": [
    "class User:\n",
    "    def __init__(self,ID,age):\n",
    "        self.ID = ID\n",
    "        self.age = age\n",
    "        self.score = 0\n",
    "    def get_ID(self): return self.ID\n",
    "    def set_ID(self, ID): self.ID = ID\n",
    "\n",
    "    def get_age(self): return self.age\n",
    "    def set_age(self, age): self.age = age\n",
    "\n",
    "    def get_score(self): return self.score\n",
    "    def set_score(self): self.score = 0\n",
    "    def add_score(self, point): self.score += point"
   ]
  },
  {
   "cell_type": "code",
   "execution_count": 6,
   "metadata": {
    "ExecuteTime": {
     "end_time": "2021-04-30T02:16:04.040911Z",
     "start_time": "2021-04-30T02:16:04.022883Z"
    }
   },
   "outputs": [],
   "source": [
    "import random\n",
    "class Game():\n",
    "    def __init__(self):\n",
    "        self.articles = {}\n",
    "        while True :\n",
    "            print('법률 데이터를 입력해주세요. 조항번호와 내용은 콤마(,)로 구분합니다.')\n",
    "            print('입력을 종료하고 싶으면 EOF를 입력하세요.')\n",
    "            print('ex) ciriminal law,3,본 법은 대한민국영역외에서 죄를 범한 내국인에게 적용한다.')\n",
    "            user_input = input('')\n",
    "            print()\n",
    "            if user_input == \"EOF\" :\n",
    "                break\n",
    "            article,article_num,substance = user_input.split(',')\n",
    "            self.articles[f'{article}-{article_num}'] = substance\n",
    "\n",
    "    def add_article(self, article, article_num, substance):\n",
    "        self.articles[f'{article}-{article_num}'] = substance\n",
    "\n",
    "    def set_option(self, num_of_quiz):\n",
    "        self.num_of_quiz = num_of_quiz if num_of_quiz < len(self.articles) else len(self.articles)\n",
    "        \n",
    "    def make_quiz(self):\n",
    "        return random.sample(self.articles.items(), self.num_of_quiz)"
   ]
  },
  {
   "cell_type": "code",
   "execution_count": 9,
   "metadata": {
    "ExecuteTime": {
     "end_time": "2021-04-30T02:17:36.011057Z",
     "start_time": "2021-04-30T02:17:35.991023Z"
    }
   },
   "outputs": [],
   "source": [
    "class GameMachine:\n",
    "    def set_users(self):\n",
    "        print(\"-----------------------------------------------\")\n",
    "        print(\"사용자 설정을 시작합니다.\")\n",
    "        self.users = []\n",
    "        print(\"사용자의 수를 입력해주세요.\")\n",
    "        num_of_users = int(input())\n",
    "        for _ in range(num_of_users):\n",
    "            print(\"사용자의 ID를 입력해주세요.\")\n",
    "            ID = input()\n",
    "            print(\"사용자의 나이를 입력해주세요.\")\n",
    "            age = int(input())\n",
    "\n",
    "            self.users.append(User(ID,age))\n",
    "        print(\"사용자 설정이 완료되었습니다.\")\n",
    "        print(\"-----------------------------------------------\")\n",
    "  \n",
    "    def set_game(self):\n",
    "        print(\"-----------------------------------------------\")\n",
    "        print(\"게임 설정을 시작합니다.\")\n",
    "        self.game = Game()\n",
    "        print(\"문제 수를 입력해주세요.\")\n",
    "        num_of_quiz = int(input())\n",
    "        self.game.set_option(num_of_quiz)\n",
    "        print(\"게임 설정이 완료되었습니다.\")\n",
    "        print(\"-----------------------------------------------\")\n",
    "\n",
    "    def start(self):\n",
    "        self.set_users()\n",
    "        self.set_game()\n",
    "        quizzes = self.game.make_quiz()\n",
    "\n",
    "        print(\"-----------------------------------------------\")\n",
    "        print(\"게임을 시작합니다.\")\n",
    "        for q, answer in quizzes :\n",
    "            ariticle, n_ariticle = q.split(\"-\")\n",
    "            print(f'문제 : {ariticle} 제 {n_ariticle}조를 서술하시오.')\n",
    "            for user in self.users:\n",
    "                print(f'{user.get_ID()}님 정답을 입력해주세요. ')\n",
    "                user_answer = input()\n",
    "                if user_answer == answer :\n",
    "                    user.add_score(1)\n",
    "        print(\"게임이 종료 되었습니다.\")\n",
    "        self.users.sort(key=lambda user:-user.get_score())\n",
    "        print(\"게임 결과\")\n",
    "        for i, user in enumerate(self.users):\n",
    "            print(f'{i+1}등 : {user.get_ID()}({user.get_age()}) - {user.get_score()}점')\n",
    "        print(\"-----------------------------------------------\")"
   ]
  },
  {
   "cell_type": "code",
   "execution_count": 10,
   "metadata": {
    "ExecuteTime": {
     "end_time": "2021-04-30T02:18:57.572018Z",
     "start_time": "2021-04-30T02:17:46.777364Z"
    }
   },
   "outputs": [
    {
     "name": "stdout",
     "output_type": "stream",
     "text": [
      "-----------------------------------------------\n",
      "사용자 설정을 시작합니다.\n",
      "사용자의 수를 입력해주세요.\n",
      "2\n",
      "사용자의 ID를 입력해주세요.\n",
      "A\n",
      "사용자의 나이를 입력해주세요.\n",
      "20\n",
      "사용자의 ID를 입력해주세요.\n",
      "B\n",
      "사용자의 나이를 입력해주세요.\n",
      "30\n",
      "사용자 설정이 완료되었습니다.\n",
      "-----------------------------------------------\n",
      "-----------------------------------------------\n",
      "게임 설정을 시작합니다.\n",
      "법률 데이터를 입력해주세요. 조항번호와 내용은 콤마(,)로 구분합니다.\n",
      "입력을 종료하고 싶으면 EOF를 입력하세요.\n",
      "ex) ciriminal law,3,본 법은 대한민국영역외에서 죄를 범한 내국인에게 적용한다.\n",
      "criminal law,3,본 법은 대한민국영역외에서 죄를 범한 내국인에게 적용한다.\n",
      "\n",
      "법률 데이터를 입력해주세요. 조항번호와 내용은 콤마(,)로 구분합니다.\n",
      "입력을 종료하고 싶으면 EOF를 입력하세요.\n",
      "ex) ciriminal law,3,본 법은 대한민국영역외에서 죄를 범한 내국인에게 적용한다.\n",
      "civil law,6,법정대리인이 범위를 정하여 처분을 허락한 재산은 미성년자가 임의로 처분할 수 없다.\n",
      "\n",
      "법률 데이터를 입력해주세요. 조항번호와 내용은 콤마(,)로 구분합니다.\n",
      "입력을 종료하고 싶으면 EOF를 입력하세요.\n",
      "ex) ciriminal law,3,본 법은 대한민국영역외에서 죄를 범한 내국인에게 적용한다.\n",
      "EOF\n",
      "\n",
      "문제 수를 입력해주세요.\n",
      "1\n",
      "게임 설정이 완료되었습니다.\n",
      "-----------------------------------------------\n",
      "-----------------------------------------------\n",
      "게임을 시작합니다.\n",
      "문제 : criminal law 제 3조를 서술하시오.\n",
      "A님 정답을 입력해주세요. \n",
      "틀렸어요\n",
      "B님 정답을 입력해주세요. \n",
      "본 법은 대한민국영역외에서 죄를 범한 내국인에게 적용한다.\n",
      "게임이 종료 되었습니다.\n",
      "게임 결과\n",
      "1등 : B(30) - 1점\n",
      "2등 : A(20) - 0점\n",
      "-----------------------------------------------\n"
     ]
    }
   ],
   "source": [
    "game_machine = GameMachine()\n",
    "game_machine.start()"
   ]
  },
  {
   "cell_type": "code",
   "execution_count": null,
   "metadata": {},
   "outputs": [],
   "source": [
    "# input data\n",
    "# criminal law,3,본 법은 대한민국영역외에서 죄를 범한 내국인에게 적용한다.\n",
    "# civil law,6,법정대리인이 범위를 정하여 처분을 허락한 재산은 미성년자가 임의로 처분할 수 없다."
   ]
  }
 ],
 "metadata": {
  "kernelspec": {
   "display_name": "Python 3",
   "language": "python",
   "name": "python3"
  },
  "language_info": {
   "codemirror_mode": {
    "name": "ipython",
    "version": 3
   },
   "file_extension": ".py",
   "mimetype": "text/x-python",
   "name": "python",
   "nbconvert_exporter": "python",
   "pygments_lexer": "ipython3",
   "version": "3.7.3"
  },
  "toc": {
   "base_numbering": 1,
   "nav_menu": {},
   "number_sections": true,
   "sideBar": true,
   "skip_h1_title": false,
   "title_cell": "Table of Contents",
   "title_sidebar": "Contents",
   "toc_cell": false,
   "toc_position": {},
   "toc_section_display": true,
   "toc_window_display": false
  }
 },
 "nbformat": 4,
 "nbformat_minor": 2
}
