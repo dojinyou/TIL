{
 "cells": [
  {
   "cell_type": "code",
   "execution_count": 1,
   "metadata": {
    "ExecuteTime": {
     "end_time": "2021-06-26T08:33:45.819350Z",
     "start_time": "2021-06-26T08:33:45.811348Z"
    }
   },
   "outputs": [],
   "source": [
    "# ! pip install bs4"
   ]
  },
  {
   "cell_type": "code",
   "execution_count": 2,
   "metadata": {
    "ExecuteTime": {
     "end_time": "2021-06-26T08:33:47.487348Z",
     "start_time": "2021-06-26T08:33:45.825350Z"
    }
   },
   "outputs": [
    {
     "name": "stdout",
     "output_type": "stream",
     "text": [
      "\n",
      "품절                \n"
     ]
    }
   ],
   "source": [
    "# Html 파일 요청 \n",
    "import requests\n",
    "from bs4 import BeautifulSoup\n",
    "\n",
    "# 얻을 상품의 페이지 \n",
    "Targeted_URL = 'https://kr.iherb.com/pr/California-Gold-Nutrition-Omega-800-Pharmaceutical-Grade-Fish-Oil-80-EPA-DHA-Triglyceride-Form-1000-mg-90-Fish-Gelatin-Softgels/85180'\n",
    "Requested01 = requests.get(Targeted_URL)\n",
    " \n",
    "\n",
    "#html 페이지 파싱 BeautifulSoup\n",
    "test_1 = BeautifulSoup(Requested01.text, 'html.parser')\n",
    "\n",
    "#class 속성값 추출 \n",
    "status1 = test_1.find('div', class_ ='text-danger stock-status-text')\n",
    "print(status1.get_text())"
   ]
  },
  {
   "cell_type": "code",
   "execution_count": 3,
   "metadata": {
    "ExecuteTime": {
     "end_time": "2021-06-26T08:33:47.502349Z",
     "start_time": "2021-06-26T08:33:47.493352Z"
    }
   },
   "outputs": [],
   "source": [
    "# ! pip install selenium"
   ]
  },
  {
   "cell_type": "code",
   "execution_count": 4,
   "metadata": {
    "ExecuteTime": {
     "end_time": "2021-06-26T08:33:47.533351Z",
     "start_time": "2021-06-26T08:33:47.507350Z"
    }
   },
   "outputs": [],
   "source": [
    "from datetime import datetime"
   ]
  },
  {
   "cell_type": "code",
   "execution_count": 6,
   "metadata": {
    "ExecuteTime": {
     "end_time": "2021-06-26T08:34:49.834881Z",
     "start_time": "2021-06-26T08:34:49.785883Z"
    }
   },
   "outputs": [
    {
     "ename": "WebDriverException",
     "evalue": "Message: '.chromedriver.exe' executable needs to be in PATH. Please see https://sites.google.com/a/chromium.org/chromedriver/home\n",
     "output_type": "error",
     "traceback": [
      "\u001b[1;31m---------------------------------------------------------------------------\u001b[0m",
      "\u001b[1;31mFileNotFoundError\u001b[0m                         Traceback (most recent call last)",
      "\u001b[1;32mC:\\ProgramData\\Anaconda3\\lib\\site-packages\\selenium\\webdriver\\common\\service.py\u001b[0m in \u001b[0;36mstart\u001b[1;34m(self)\u001b[0m\n\u001b[0;32m     75\u001b[0m                                             \u001b[0mstderr\u001b[0m\u001b[1;33m=\u001b[0m\u001b[0mself\u001b[0m\u001b[1;33m.\u001b[0m\u001b[0mlog_file\u001b[0m\u001b[1;33m,\u001b[0m\u001b[1;33m\u001b[0m\u001b[1;33m\u001b[0m\u001b[0m\n\u001b[1;32m---> 76\u001b[1;33m                                             stdin=PIPE)\n\u001b[0m\u001b[0;32m     77\u001b[0m         \u001b[1;32mexcept\u001b[0m \u001b[0mTypeError\u001b[0m\u001b[1;33m:\u001b[0m\u001b[1;33m\u001b[0m\u001b[1;33m\u001b[0m\u001b[0m\n",
      "\u001b[1;32mC:\\ProgramData\\Anaconda3\\lib\\subprocess.py\u001b[0m in \u001b[0;36m__init__\u001b[1;34m(self, args, bufsize, executable, stdin, stdout, stderr, preexec_fn, close_fds, shell, cwd, env, universal_newlines, startupinfo, creationflags, restore_signals, start_new_session, pass_fds, encoding, errors, text)\u001b[0m\n\u001b[0;32m    774\u001b[0m                                 \u001b[0merrread\u001b[0m\u001b[1;33m,\u001b[0m \u001b[0merrwrite\u001b[0m\u001b[1;33m,\u001b[0m\u001b[1;33m\u001b[0m\u001b[1;33m\u001b[0m\u001b[0m\n\u001b[1;32m--> 775\u001b[1;33m                                 restore_signals, start_new_session)\n\u001b[0m\u001b[0;32m    776\u001b[0m         \u001b[1;32mexcept\u001b[0m\u001b[1;33m:\u001b[0m\u001b[1;33m\u001b[0m\u001b[1;33m\u001b[0m\u001b[0m\n",
      "\u001b[1;32mC:\\ProgramData\\Anaconda3\\lib\\subprocess.py\u001b[0m in \u001b[0;36m_execute_child\u001b[1;34m(self, args, executable, preexec_fn, close_fds, pass_fds, cwd, env, startupinfo, creationflags, shell, p2cread, p2cwrite, c2pread, c2pwrite, errread, errwrite, unused_restore_signals, unused_start_new_session)\u001b[0m\n\u001b[0;32m   1177\u001b[0m                                          \u001b[0mos\u001b[0m\u001b[1;33m.\u001b[0m\u001b[0mfspath\u001b[0m\u001b[1;33m(\u001b[0m\u001b[0mcwd\u001b[0m\u001b[1;33m)\u001b[0m \u001b[1;32mif\u001b[0m \u001b[0mcwd\u001b[0m \u001b[1;32mis\u001b[0m \u001b[1;32mnot\u001b[0m \u001b[1;32mNone\u001b[0m \u001b[1;32melse\u001b[0m \u001b[1;32mNone\u001b[0m\u001b[1;33m,\u001b[0m\u001b[1;33m\u001b[0m\u001b[1;33m\u001b[0m\u001b[0m\n\u001b[1;32m-> 1178\u001b[1;33m                                          startupinfo)\n\u001b[0m\u001b[0;32m   1179\u001b[0m             \u001b[1;32mfinally\u001b[0m\u001b[1;33m:\u001b[0m\u001b[1;33m\u001b[0m\u001b[1;33m\u001b[0m\u001b[0m\n",
      "\u001b[1;31mFileNotFoundError\u001b[0m: [WinError 2] 지정된 파일을 찾을 수 없습니다",
      "\nDuring handling of the above exception, another exception occurred:\n",
      "\u001b[1;31mWebDriverException\u001b[0m                        Traceback (most recent call last)",
      "\u001b[1;32m<ipython-input-6-5d561d745e4f>\u001b[0m in \u001b[0;36m<module>\u001b[1;34m\u001b[0m\n\u001b[0;32m      8\u001b[0m \u001b[1;33m\u001b[0m\u001b[0m\n\u001b[0;32m      9\u001b[0m \u001b[1;31m# selenum의 webdriver에 앞서 설치한 chromedirver를 연동한다.\u001b[0m\u001b[1;33m\u001b[0m\u001b[1;33m\u001b[0m\u001b[1;33m\u001b[0m\u001b[0m\n\u001b[1;32m---> 10\u001b[1;33m \u001b[0mdriver\u001b[0m \u001b[1;33m=\u001b[0m \u001b[0mwebdriver\u001b[0m\u001b[1;33m.\u001b[0m\u001b[0mChrome\u001b[0m\u001b[1;33m(\u001b[0m\u001b[0mchromedriver\u001b[0m\u001b[1;33m)\u001b[0m\u001b[1;33m\u001b[0m\u001b[1;33m\u001b[0m\u001b[0m\n\u001b[0m\u001b[0;32m     11\u001b[0m \u001b[0mdriver2\u001b[0m \u001b[1;33m=\u001b[0m \u001b[0mwebdriver\u001b[0m\u001b[1;33m.\u001b[0m\u001b[0mChrome\u001b[0m\u001b[1;33m(\u001b[0m\u001b[0mchromedriver\u001b[0m\u001b[1;33m)\u001b[0m\u001b[1;33m\u001b[0m\u001b[1;33m\u001b[0m\u001b[0m\n\u001b[0;32m     12\u001b[0m \u001b[0mdriver3\u001b[0m \u001b[1;33m=\u001b[0m \u001b[0mwebdriver\u001b[0m\u001b[1;33m.\u001b[0m\u001b[0mChrome\u001b[0m\u001b[1;33m(\u001b[0m\u001b[0mchromedriver\u001b[0m\u001b[1;33m)\u001b[0m\u001b[1;33m\u001b[0m\u001b[1;33m\u001b[0m\u001b[0m\n",
      "\u001b[1;32mC:\\ProgramData\\Anaconda3\\lib\\site-packages\\selenium\\webdriver\\chrome\\webdriver.py\u001b[0m in \u001b[0;36m__init__\u001b[1;34m(self, executable_path, port, options, service_args, desired_capabilities, service_log_path, chrome_options, keep_alive)\u001b[0m\n\u001b[0;32m     71\u001b[0m             \u001b[0mservice_args\u001b[0m\u001b[1;33m=\u001b[0m\u001b[0mservice_args\u001b[0m\u001b[1;33m,\u001b[0m\u001b[1;33m\u001b[0m\u001b[1;33m\u001b[0m\u001b[0m\n\u001b[0;32m     72\u001b[0m             log_path=service_log_path)\n\u001b[1;32m---> 73\u001b[1;33m         \u001b[0mself\u001b[0m\u001b[1;33m.\u001b[0m\u001b[0mservice\u001b[0m\u001b[1;33m.\u001b[0m\u001b[0mstart\u001b[0m\u001b[1;33m(\u001b[0m\u001b[1;33m)\u001b[0m\u001b[1;33m\u001b[0m\u001b[1;33m\u001b[0m\u001b[0m\n\u001b[0m\u001b[0;32m     74\u001b[0m \u001b[1;33m\u001b[0m\u001b[0m\n\u001b[0;32m     75\u001b[0m         \u001b[1;32mtry\u001b[0m\u001b[1;33m:\u001b[0m\u001b[1;33m\u001b[0m\u001b[1;33m\u001b[0m\u001b[0m\n",
      "\u001b[1;32mC:\\ProgramData\\Anaconda3\\lib\\site-packages\\selenium\\webdriver\\common\\service.py\u001b[0m in \u001b[0;36mstart\u001b[1;34m(self)\u001b[0m\n\u001b[0;32m     81\u001b[0m                 raise WebDriverException(\n\u001b[0;32m     82\u001b[0m                     \"'%s' executable needs to be in PATH. %s\" % (\n\u001b[1;32m---> 83\u001b[1;33m                         os.path.basename(self.path), self.start_error_message)\n\u001b[0m\u001b[0;32m     84\u001b[0m                 )\n\u001b[0;32m     85\u001b[0m             \u001b[1;32melif\u001b[0m \u001b[0merr\u001b[0m\u001b[1;33m.\u001b[0m\u001b[0merrno\u001b[0m \u001b[1;33m==\u001b[0m \u001b[0merrno\u001b[0m\u001b[1;33m.\u001b[0m\u001b[0mEACCES\u001b[0m\u001b[1;33m:\u001b[0m\u001b[1;33m\u001b[0m\u001b[1;33m\u001b[0m\u001b[0m\n",
      "\u001b[1;31mWebDriverException\u001b[0m: Message: '.chromedriver.exe' executable needs to be in PATH. Please see https://sites.google.com/a/chromium.org/chromedriver/home\n"
     ]
    }
   ],
   "source": [
    "from selenium import webdriver\n",
    "import time\n",
    "from bs4 import BeautifulSoup\n",
    "import os\n",
    "\n",
    "# selenium에서 사용할 웹 드라이버 절대 경로 정보\n",
    "chromedriver = f'{os.getcwd()}chromedriver.exe'\n",
    "\n",
    "# selenum의 webdriver에 앞서 설치한 chromedirver를 연동한다.\n",
    "driver = webdriver.Chrome(chromedriver)\n",
    "driver2 = webdriver.Chrome(chromedriver)\n",
    "driver3 = webdriver.Chrome(chromedriver)\n",
    "\n",
    "# 페이지의 url\n",
    "url = 'https://kr.iherb.com/pr/California-Gold-Nutrition-Omega-800-Pharmaceutical-Grade-Fish-Oil-80-EPA-DHA-Triglyceride-Form-1000-mg-90-Fish-Gelatin-Softgels/85180'\n",
    "url2 = 'https://kr.iherb.com/pr/California-Gold-Nutrition-Omega-800-Pharmaceutical-Grade-Fish-Oil-80-EPA-DHA-1-000-mg-30-Fish-Gelatin-Softgels/82845'\n",
    "url3 = 'https://kr.iherb.com/pr/California-Gold-Nutrition-LactoBif-Probiotics-30-Billion-CFU-60-Veggie-Capsules/64009?rec=iherbtest-home'\n",
    "\n",
    "# driver로 특정 페이지를 크롤링한다.\n",
    "driver.get(url)\n",
    "driver2.get(url2)\n",
    "driver3.get(url3)"
   ]
  },
  {
   "cell_type": "code",
   "execution_count": null,
   "metadata": {
    "ExecuteTime": {
     "end_time": "2021-06-26T08:33:48.505350Z",
     "start_time": "2021-06-26T08:33:45.826Z"
    }
   },
   "outputs": [],
   "source": [
    "# 해당 페이지의 상태를 가져온다. \n",
    "locate= '#stock-status > div.text-danger.stock-status-text'\n",
    "locate2 = '#stock-status > div.text-danger.stock-status-text'\n",
    "locate3 = '#stock-status > strong'\n",
    "\n",
    "# 상품의 이름을 가져온다. \n",
    "n_locate = 'body > div.product-grouping-wrapper.defer-block > article > div.container.product-overview > div > section > div.inner-content > div > div > div.col-xs-24.col-md-14 > div:nth-child(1) > div > div > ul > li:nth-child(1) > strong'"
   ]
  },
  {
   "cell_type": "code",
   "execution_count": null,
   "metadata": {
    "ExecuteTime": {
     "end_time": "2021-06-26T08:33:48.508351Z",
     "start_time": "2021-06-26T08:33:45.829Z"
    }
   },
   "outputs": [],
   "source": [
    "# name = driver.find_element_by_css_selector(n_locate).text\n",
    "# print(name)\n",
    "\n",
    "# name2 = driver2.find_element_by_css_selector(n_locate).text\n",
    "# print(name2)\n",
    "\n",
    "# name3 = driver3.find_element_by_css_selector(n_locate).text\n",
    "# print(name3)"
   ]
  },
  {
   "cell_type": "code",
   "execution_count": null,
   "metadata": {
    "ExecuteTime": {
     "end_time": "2021-06-26T08:33:48.510351Z",
     "start_time": "2021-06-26T08:33:45.831Z"
    }
   },
   "outputs": [],
   "source": [
    "import openpyxl\n",
    "\n",
    "# 워크북(엑셀파일)을 새로 만듭니다.\n",
    "wb = openpyxl.Workbook()\n",
    "\n",
    "# 현재 활성화된 시트를 선택합니다.\n",
    "sheet = wb.active\n",
    "\n",
    "# 헤더 추가하기\n",
    "sheet.append([\"날짜\", \"시간\", \"재고여부\"])"
   ]
  },
  {
   "cell_type": "code",
   "execution_count": null,
   "metadata": {
    "ExecuteTime": {
     "end_time": "2021-06-26T08:33:48.513348Z",
     "start_time": "2021-06-26T08:33:45.834Z"
    }
   },
   "outputs": [],
   "source": [
    "import openpyxl\n",
    "\n",
    "# 워크북(엑셀파일)을 새로 만듭니다.\n",
    "wb = openpyxl.Workbook()\n",
    "\n",
    "sheet1 = wb['Sheet']\n",
    "sheet1.title = name\n",
    "\n",
    "sheet2 = wb.create_sheet(name2)\n",
    "sheet3 = wb.create_sheet(name3)\n",
    "\n",
    "# 헤더 추가하기\n",
    "sheet1.append([\"날짜\", \"시간\", \"재고여부\"])\n",
    "sheet2.append([\"날짜\", \"시간\", \"재고여부\"])\n",
    "sheet3.append([\"날짜\", \"시간\", \"재고여부\"])\n",
    "\n",
    "#URL 추가하기\n",
    "sheet1.cell(row=1, column=4).value = url\n",
    "sheet2.cell(row=1, column=4).value = url2\n",
    "sheet3.cell(row=1, column=4).value = url3\n",
    "\n",
    "\n",
    "wb.save('재고확인.xlsx')"
   ]
  },
  {
   "cell_type": "code",
   "execution_count": null,
   "metadata": {
    "ExecuteTime": {
     "end_time": "2021-06-26T08:33:48.515351Z",
     "start_time": "2021-06-26T08:33:45.837Z"
    }
   },
   "outputs": [],
   "source": [
    "wb = openpyxl.load_workbook('재고확인.xlsx')\n",
    "\n",
    "while True:  \n",
    "    try: \n",
    "        #날짜와 시간을 가져온다. \n",
    "        now = datetime.now()\n",
    "        date = \"%s년 %s월 %s일\" %(now.year, now.month, now.day)\n",
    "        hour = \"%s시 %s분\" %(now.hour, now.minute)\n",
    "\n",
    "        #상품의 재고 상황을 가져온다. \n",
    "        status = driver.find_element_by_css_selector(locate).text\n",
    "        status2 = driver2.find_element_by_css_selector(locate2).text\n",
    "        status3 = driver3.find_element_by_css_selector(locate3).text\n",
    "       \n",
    "        #각 시트에 시간과 상태를 저장한다. \n",
    "        sheet1 = wb.active\n",
    "        sheet1.append([date, hour, status])\n",
    "        \n",
    "        sheet2 = wb[name2+'1']\n",
    "        sheet2.append([date, hour, status2])\n",
    "        \n",
    "        sheet3 = wb[name3]\n",
    "        sheet3.append([date, hour, status3])\n",
    "        \n",
    "        #1분마다 정보를 갱신한다. \n",
    "        time.sleep(60) \n",
    "        \n",
    "        #파일에 저장한다. \n",
    "        wb.save('재고확인.xlsx') \n",
    "        \n",
    "    except:\n",
    "        print(\"Error\")\n",
    "        break"
   ]
  },
  {
   "cell_type": "code",
   "execution_count": null,
   "metadata": {},
   "outputs": [],
   "source": []
  }
 ],
 "metadata": {
  "kernelspec": {
   "display_name": "Python 3",
   "language": "python",
   "name": "python3"
  },
  "language_info": {
   "codemirror_mode": {
    "name": "ipython",
    "version": 3
   },
   "file_extension": ".py",
   "mimetype": "text/x-python",
   "name": "python",
   "nbconvert_exporter": "python",
   "pygments_lexer": "ipython3",
   "version": "3.7.3"
  },
  "toc": {
   "base_numbering": 1,
   "nav_menu": {},
   "number_sections": true,
   "sideBar": true,
   "skip_h1_title": false,
   "title_cell": "Table of Contents",
   "title_sidebar": "Contents",
   "toc_cell": false,
   "toc_position": {},
   "toc_section_display": true,
   "toc_window_display": false
  }
 },
 "nbformat": 4,
 "nbformat_minor": 2
}
